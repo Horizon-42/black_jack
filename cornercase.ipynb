{
 "cells": [
  {
   "cell_type": "code",
   "execution_count": 3,
   "id": "5493cd5a",
   "metadata": {},
   "outputs": [
    {
     "name": "stdout",
     "output_type": "stream",
     "text": [
      "Blackjack rate: 4.8441%\n"
     ]
    }
   ],
   "source": [
    "%reload_ext autoreload\n",
    "%autoreload 2\n",
    "import random\n",
    "from deck import NormalDeck\n",
    "from env import draw_card\n",
    "\n",
    "# def draw_card():\n",
    "#     return random.choice(['A', '2', '3', '4', '5', '6', '7', '8', '9', '10', 'J', 'Q', 'K'])\n",
    "\n",
    "def is_blackjack(card1, card2):\n",
    "    return (card1 == 1 and card2 ==10) or (card2 == 1 and card1 ==10)\n",
    "\n",
    "blackjack_count = 0\n",
    "total_trials = 1_000_000\n",
    "\n",
    "deck = NormalDeck(1)\n",
    "\n",
    "for _ in range(total_trials):\n",
    "    card1 = deck.deal_card()\n",
    "    card2 = deck.deal_card()\n",
    "\n",
    "    deck.deal_card()\n",
    "    deck.deal_card()\n",
    "    deck.deal_card()\n",
    "    deck.deal_card()\n",
    "    deck.deal_card()\n",
    "    deck.deal_card()\n",
    "    deck.deal_card()\n",
    "    deck.deal_card()\n",
    "    deck.deal_card()\n",
    "    deck.deal_card()\n",
    "    deck.deal_card()\n",
    "    deck.deal_card()\n",
    "    deck.deal_card()\n",
    "    deck.deal_card()\n",
    "    deck.deal_card()\n",
    "    \n",
    "    # card1=  draw_card()\n",
    "    # card2 = draw_card()\n",
    "    if is_blackjack(card1, card2):\n",
    "        blackjack_count += 1\n",
    "\n",
    "print(f\"Blackjack rate: {blackjack_count / total_trials:.4%}\")\n"
   ]
  },
  {
   "cell_type": "code",
   "execution_count": 2,
   "id": "e2850ba7",
   "metadata": {},
   "outputs": [
    {
     "name": "stdout",
     "output_type": "stream",
     "text": [
      "1\n"
     ]
    }
   ],
   "source": [
    "print(len([[]]))"
   ]
  },
  {
   "cell_type": "code",
   "execution_count": 3,
   "id": "ed51447c",
   "metadata": {},
   "outputs": [
    {
     "name": "stdout",
     "output_type": "stream",
     "text": [
      "[(11, 1)]\n",
      "[(11, 1), (1, 11)]\n",
      "[(11, 11), (11, 1), (1, 11), (1, 1)]\n"
     ]
    }
   ],
   "source": [
    "from itertools import combinations, permutations, product\n",
    "\n",
    "a = [11,1]\n",
    "print(list(combinations(a, 2)))\n",
    "\n",
    "print(list(permutations(a, 2)))\n",
    "\n",
    "print(list(product(a, repeat=2)))\n"
   ]
  },
  {
   "cell_type": "code",
   "execution_count": 4,
   "id": "947c7640",
   "metadata": {},
   "outputs": [
    {
     "name": "stdout",
     "output_type": "stream",
     "text": [
      "True\n"
     ]
    }
   ],
   "source": [
    "a = []\n",
    "\n",
    "b = 0\n",
    "print( not a and b is not None)"
   ]
  },
  {
   "cell_type": "code",
   "execution_count": 5,
   "id": "5378cd9c",
   "metadata": {},
   "outputs": [
    {
     "name": "stdout",
     "output_type": "stream",
     "text": [
      "2\n",
      "3\n"
     ]
    }
   ],
   "source": [
    "class A:\n",
    "    def __init__(self):\n",
    "        self.a = 1\n",
    "        self.__init_a()\n",
    "\n",
    "    def __init_a(self):\n",
    "        self.a = 2\n",
    "\n",
    "class B(A):\n",
    "    def __init__(self):\n",
    "        super().__init__()\n",
    "        self.__init_a()\n",
    "\n",
    "    def __init_a(self):\n",
    "        self.a = 3\n",
    "\n",
    "a = A()\n",
    "b = B()\n",
    "\n",
    "print(a.a)  # Output: 2\n",
    "print(b.a)  # Output: 3"
   ]
  },
  {
   "cell_type": "code",
   "execution_count": 6,
   "id": "a95e2971",
   "metadata": {},
   "outputs": [
    {
     "name": "stdout",
     "output_type": "stream",
     "text": [
      "True\n",
      "False\n",
      "6257718572389727221\n",
      "6257718572389727221\n",
      "8694776419129972914\n"
     ]
    }
   ],
   "source": [
    "from models.utils import Action, BaseState\n",
    "\n",
    "sa = BaseState(10, 10, True, False)\n",
    "sb = BaseState(10, 10, True, False)\n",
    "sc = BaseState(10, 10, False, False)\n",
    "\n",
    "print(sa == sb)  # Output: True\n",
    "print(sa == sc)  # Output: False\n",
    "\n",
    "tb = {}\n",
    "tb[sa] = 1\n",
    "\n",
    "print(hash(sa))  # Output: hash value\n",
    "print(hash(sb))  # Output: same hash value as sa\n",
    "print(hash(sc))  # Output: different hash value"
   ]
  }
 ],
 "metadata": {
  "kernelspec": {
   "display_name": "acv",
   "language": "python",
   "name": "python3"
  },
  "language_info": {
   "codemirror_mode": {
    "name": "ipython",
    "version": 3
   },
   "file_extension": ".py",
   "mimetype": "text/x-python",
   "name": "python",
   "nbconvert_exporter": "python",
   "pygments_lexer": "ipython3",
   "version": "3.13.2"
  }
 },
 "nbformat": 4,
 "nbformat_minor": 5
}
