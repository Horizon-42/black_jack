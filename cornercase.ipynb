{
 "cells": [
  {
   "cell_type": "code",
   "execution_count": 11,
   "id": "ed51447c",
   "metadata": {},
   "outputs": [
    {
     "name": "stdout",
     "output_type": "stream",
     "text": [
      "[(11, 1)]\n",
      "[(11, 1), (1, 11)]\n",
      "[(11, 11), (11, 1), (1, 11), (1, 1)]\n"
     ]
    }
   ],
   "source": [
    "from itertools import combinations, permutations, product\n",
    "\n",
    "a = [11,1]\n",
    "print(list(combinations(a, 2)))\n",
    "\n",
    "print(list(permutations(a, 2)))\n",
    "\n",
    "print(list(product(a, repeat=2)))\n"
   ]
  },
  {
   "cell_type": "code",
   "execution_count": 3,
   "id": "947c7640",
   "metadata": {},
   "outputs": [
    {
     "name": "stdout",
     "output_type": "stream",
     "text": [
      "True\n"
     ]
    }
   ],
   "source": [
    "a = []\n",
    "\n",
    "b = 0\n",
    "print( not a and b is not None)"
   ]
  }
 ],
 "metadata": {
  "kernelspec": {
   "display_name": "acv",
   "language": "python",
   "name": "python3"
  },
  "language_info": {
   "codemirror_mode": {
    "name": "ipython",
    "version": 3
   },
   "file_extension": ".py",
   "mimetype": "text/x-python",
   "name": "python",
   "nbconvert_exporter": "python",
   "pygments_lexer": "ipython3",
   "version": "3.13.2"
  }
 },
 "nbformat": 4,
 "nbformat_minor": 5
}
