{
 "cells": [
  {
   "cell_type": "code",
   "execution_count": 11,
   "id": "ed51447c",
   "metadata": {},
   "outputs": [
    {
     "name": "stdout",
     "output_type": "stream",
     "text": [
      "[(11, 1)]\n",
      "[(11, 1), (1, 11)]\n",
      "[(11, 11), (11, 1), (1, 11), (1, 1)]\n"
     ]
    }
   ],
   "source": [
    "from itertools import combinations, permutations, product\n",
    "\n",
    "a = [11,1]\n",
    "print(list(combinations(a, 2)))\n",
    "\n",
    "print(list(permutations(a, 2)))\n",
    "\n",
    "print(list(product(a, repeat=2)))\n"
   ]
  },
  {
   "cell_type": "code",
   "execution_count": 3,
   "id": "947c7640",
   "metadata": {},
   "outputs": [
    {
     "name": "stdout",
     "output_type": "stream",
     "text": [
      "True\n"
     ]
    }
   ],
   "source": [
    "a = []\n",
    "\n",
    "b = 0\n",
    "print( not a and b is not None)"
   ]
  },
  {
   "cell_type": "code",
   "execution_count": 1,
   "id": "5378cd9c",
   "metadata": {},
   "outputs": [
    {
     "name": "stdout",
     "output_type": "stream",
     "text": [
      "2\n",
      "3\n"
     ]
    }
   ],
   "source": [
    "class A:\n",
    "    def __init__(self):\n",
    "        self.a = 1\n",
    "        self.__init_a()\n",
    "\n",
    "    def __init_a(self):\n",
    "        self.a = 2\n",
    "\n",
    "class B(A):\n",
    "    def __init__(self):\n",
    "        super().__init__()\n",
    "        self.__init_a()\n",
    "\n",
    "    def __init_a(self):\n",
    "        self.a = 3\n",
    "\n",
    "a = A()\n",
    "b = B()\n",
    "\n",
    "print(a.a)  # Output: 2\n",
    "print(b.a)  # Output: 3"
   ]
  },
  {
   "cell_type": "code",
   "execution_count": null,
   "id": "a95e2971",
   "metadata": {},
   "outputs": [
    {
     "name": "stdout",
     "output_type": "stream",
     "text": [
      "True\n",
      "False\n"
     ]
    },
    {
     "ename": "TypeError",
     "evalue": "unhashable type: 'State'",
     "output_type": "error",
     "traceback": [
      "\u001b[31m---------------------------------------------------------------------------\u001b[39m",
      "\u001b[31mTypeError\u001b[39m                                 Traceback (most recent call last)",
      "\u001b[36mCell\u001b[39m\u001b[36m \u001b[39m\u001b[32mIn[4]\u001b[39m\u001b[32m, line 11\u001b[39m\n\u001b[32m      8\u001b[39m \u001b[38;5;28mprint\u001b[39m(sa == sc)  \u001b[38;5;66;03m# Output: False\u001b[39;00m\n\u001b[32m     10\u001b[39m tb = {}\n\u001b[32m---> \u001b[39m\u001b[32m11\u001b[39m \u001b[43mtb\u001b[49m\u001b[43m[\u001b[49m\u001b[43msa\u001b[49m\u001b[43m]\u001b[49m = \u001b[32m1\u001b[39m\n\u001b[32m     13\u001b[39m \u001b[38;5;28mprint\u001b[39m(\u001b[38;5;28mhash\u001b[39m(sa))  \u001b[38;5;66;03m# Output: hash value\u001b[39;00m\n\u001b[32m     14\u001b[39m \u001b[38;5;28mprint\u001b[39m(\u001b[38;5;28mhash\u001b[39m(sb))  \u001b[38;5;66;03m# Output: same hash value as sa\u001b[39;00m\n",
      "\u001b[31mTypeError\u001b[39m: unhashable type: 'State'"
     ]
    }
   ],
   "source": [
    "from models.utils import Action, BaseState\n",
    "\n",
    "sa = BaseState(10, 10, True, False)\n",
    "sb = BaseState(10, 10, True, False)\n",
    "sc = BaseState(10, 10, False, False)\n",
    "\n",
    "print(sa == sb)  # Output: True\n",
    "print(sa == sc)  # Output: False\n",
    "\n",
    "tb = {}\n",
    "tb[sa] = 1\n",
    "\n",
    "print(hash(sa))  # Output: hash value\n",
    "print(hash(sb))  # Output: same hash value as sa\n",
    "print(hash(sc))  # Output: different hash value"
   ]
  }
 ],
 "metadata": {
  "kernelspec": {
   "display_name": "acv",
   "language": "python",
   "name": "python3"
  },
  "language_info": {
   "codemirror_mode": {
    "name": "ipython",
    "version": 3
   },
   "file_extension": ".py",
   "mimetype": "text/x-python",
   "name": "python",
   "nbconvert_exporter": "python",
   "pygments_lexer": "ipython3",
   "version": "3.13.2"
  }
 },
 "nbformat": 4,
 "nbformat_minor": 5
}
